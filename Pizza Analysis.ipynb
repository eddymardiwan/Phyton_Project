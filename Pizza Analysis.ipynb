{
 "cells": [
  {
   "cell_type": "markdown",
   "id": "393b5462",
   "metadata": {},
   "source": [
    "# Library"
   ]
  },
  {
   "cell_type": "code",
   "execution_count": 1,
   "id": "61dad8c7",
   "metadata": {},
   "outputs": [],
   "source": [
    "import pandas as pd\n",
    "pd.set_option('display.max_columns', 1000)\n",
    "pd.set_option('display.max_rows', 1000)\n",
    "pd.set_option('display.float_format', lambda x: f'{x:.3f}')\n",
    "import numpy as np\n",
    "import warnings\n",
    "warnings.filterwarnings(\"ignore\")\n",
    "\n",
    "import seaborn as sns\n",
    "import matplotlib.pyplot as plt\n",
    "import plotly.express as px"
   ]
  },
  {
   "cell_type": "markdown",
   "id": "77a03ef1",
   "metadata": {},
   "source": [
    "# Support Function"
   ]
  },
  {
   "cell_type": "code",
   "execution_count": 2,
   "id": "9cc8e652",
   "metadata": {},
   "outputs": [],
   "source": [
    "def inspect_data(df, col=None, n_rows=5):\n",
    "    # cek shape data\n",
    "    print(f'data shape: {df.shape}')\n",
    "    \n",
    "    # definisikan kolom\n",
    "    if col is None:\n",
    "        col = df.columns\n",
    "\n",
    "    # cek head data, gunakan fungsi display untuk menampilkan dataframe\n",
    "    display(df[col].head(n_rows))"
   ]
  },
  {
   "cell_type": "code",
   "execution_count": 3,
   "id": "256ea18f",
   "metadata": {},
   "outputs": [],
   "source": [
    "def check_missing(df, cut_off=0, sort=True):\n",
    "    freq=df.isnull().sum()\n",
    "    percent=df.isnull().sum()/df.shape[0]*100\n",
    "    types=df.dtypes\n",
    "    unique = df.apply(pd.unique).to_frame(name='Unique Values')['Unique Values']\n",
    "    df_miss=pd.DataFrame({'missing_percentage':percent, 'missing_frequency':freq, 'types':types, 'unique_values':unique})\n",
    "    if sort: df_miss.sort_values(by='missing_frequency',ascending= False, inplace=True)\n",
    "    return df_miss[df_miss['missing_percentage'] >= cut_off]"
   ]
  },
  {
   "cell_type": "code",
   "execution_count": 4,
   "id": "52dcd6d9",
   "metadata": {},
   "outputs": [],
   "source": [
    "def fillna_by_metric(df, column_name, metric='mean', custom_value=None):\n",
    "    # Mengambil nilai metrik sesuai input\n",
    "    if metric == 'mean':\n",
    "        metric_value = df[column_name].mean()\n",
    "    elif metric == 'median':\n",
    "        metric_value = df[column_name].median()\n",
    "    elif metric == 'mode':\n",
    "        metric_value = df[column_name].mode().iloc[0]\n",
    "    elif metric == 'zero':\n",
    "        metric_value = 0\n",
    "    elif metric == 'custom':\n",
    "        metric_value = custom_value\n",
    "    else:\n",
    "        raise ValueError(\"Invalid metric type\")\n",
    "    \n",
    "    # Mengisi missing value pada kolom dengan nilai metrik yang sudah diambil\n",
    "    df[column_name].fillna(value=metric_value, inplace=True)\n",
    "    \n",
    "    return df"
   ]
  },
  {
   "cell_type": "markdown",
   "id": "63439803",
   "metadata": {},
   "source": [
    "# Load Data"
   ]
  },
  {
   "cell_type": "code",
   "execution_count": 5,
   "id": "93a3ad30",
   "metadata": {},
   "outputs": [
    {
     "name": "stdout",
     "output_type": "stream",
     "text": [
      "data shape: (21350, 3)\n"
     ]
    },
    {
     "data": {
      "text/html": [
       "<div>\n",
       "<style scoped>\n",
       "    .dataframe tbody tr th:only-of-type {\n",
       "        vertical-align: middle;\n",
       "    }\n",
       "\n",
       "    .dataframe tbody tr th {\n",
       "        vertical-align: top;\n",
       "    }\n",
       "\n",
       "    .dataframe thead th {\n",
       "        text-align: right;\n",
       "    }\n",
       "</style>\n",
       "<table border=\"1\" class=\"dataframe\">\n",
       "  <thead>\n",
       "    <tr style=\"text-align: right;\">\n",
       "      <th></th>\n",
       "      <th>order_id</th>\n",
       "      <th>date</th>\n",
       "      <th>time</th>\n",
       "    </tr>\n",
       "  </thead>\n",
       "  <tbody>\n",
       "    <tr>\n",
       "      <th>0</th>\n",
       "      <td>1</td>\n",
       "      <td>2015-01-01</td>\n",
       "      <td>11:38:36</td>\n",
       "    </tr>\n",
       "    <tr>\n",
       "      <th>1</th>\n",
       "      <td>2</td>\n",
       "      <td>2015-01-01</td>\n",
       "      <td>11:57:40</td>\n",
       "    </tr>\n",
       "    <tr>\n",
       "      <th>2</th>\n",
       "      <td>3</td>\n",
       "      <td>2015-01-01</td>\n",
       "      <td>12:12:28</td>\n",
       "    </tr>\n",
       "  </tbody>\n",
       "</table>\n",
       "</div>"
      ],
      "text/plain": [
       "   order_id        date      time\n",
       "0         1  2015-01-01  11:38:36\n",
       "1         2  2015-01-01  11:57:40\n",
       "2         3  2015-01-01  12:12:28"
      ]
     },
     "metadata": {},
     "output_type": "display_data"
    }
   ],
   "source": [
    "# load data transaksi\n",
    "df_orders = pd.read_csv('orders.csv')\n",
    "inspect_data(df_orders, n_rows=3)"
   ]
  },
  {
   "cell_type": "code",
   "execution_count": 6,
   "id": "fe4cc0d2",
   "metadata": {},
   "outputs": [
    {
     "name": "stdout",
     "output_type": "stream",
     "text": [
      "data shape: (48620, 4)\n"
     ]
    },
    {
     "data": {
      "text/html": [
       "<div>\n",
       "<style scoped>\n",
       "    .dataframe tbody tr th:only-of-type {\n",
       "        vertical-align: middle;\n",
       "    }\n",
       "\n",
       "    .dataframe tbody tr th {\n",
       "        vertical-align: top;\n",
       "    }\n",
       "\n",
       "    .dataframe thead th {\n",
       "        text-align: right;\n",
       "    }\n",
       "</style>\n",
       "<table border=\"1\" class=\"dataframe\">\n",
       "  <thead>\n",
       "    <tr style=\"text-align: right;\">\n",
       "      <th></th>\n",
       "      <th>order_details_id</th>\n",
       "      <th>order_id</th>\n",
       "      <th>pizza_id</th>\n",
       "      <th>quantity</th>\n",
       "    </tr>\n",
       "  </thead>\n",
       "  <tbody>\n",
       "    <tr>\n",
       "      <th>0</th>\n",
       "      <td>1</td>\n",
       "      <td>1</td>\n",
       "      <td>hawaiian_m</td>\n",
       "      <td>1</td>\n",
       "    </tr>\n",
       "    <tr>\n",
       "      <th>1</th>\n",
       "      <td>2</td>\n",
       "      <td>2</td>\n",
       "      <td>classic_dlx_m</td>\n",
       "      <td>1</td>\n",
       "    </tr>\n",
       "    <tr>\n",
       "      <th>2</th>\n",
       "      <td>3</td>\n",
       "      <td>2</td>\n",
       "      <td>five_cheese_l</td>\n",
       "      <td>1</td>\n",
       "    </tr>\n",
       "  </tbody>\n",
       "</table>\n",
       "</div>"
      ],
      "text/plain": [
       "   order_details_id  order_id       pizza_id  quantity\n",
       "0                 1         1     hawaiian_m         1\n",
       "1                 2         2  classic_dlx_m         1\n",
       "2                 3         2  five_cheese_l         1"
      ]
     },
     "metadata": {},
     "output_type": "display_data"
    }
   ],
   "source": [
    "# load data transaksi\n",
    "df_order_details = pd.read_csv('order_details.csv')\n",
    "inspect_data(df_order_details, n_rows=3)"
   ]
  },
  {
   "cell_type": "code",
   "execution_count": 7,
   "id": "5bffe6d2",
   "metadata": {},
   "outputs": [
    {
     "name": "stdout",
     "output_type": "stream",
     "text": [
      "data shape: (96, 4)\n"
     ]
    },
    {
     "data": {
      "text/html": [
       "<div>\n",
       "<style scoped>\n",
       "    .dataframe tbody tr th:only-of-type {\n",
       "        vertical-align: middle;\n",
       "    }\n",
       "\n",
       "    .dataframe tbody tr th {\n",
       "        vertical-align: top;\n",
       "    }\n",
       "\n",
       "    .dataframe thead th {\n",
       "        text-align: right;\n",
       "    }\n",
       "</style>\n",
       "<table border=\"1\" class=\"dataframe\">\n",
       "  <thead>\n",
       "    <tr style=\"text-align: right;\">\n",
       "      <th></th>\n",
       "      <th>pizza_id</th>\n",
       "      <th>pizza_type_id</th>\n",
       "      <th>size</th>\n",
       "      <th>price</th>\n",
       "    </tr>\n",
       "  </thead>\n",
       "  <tbody>\n",
       "    <tr>\n",
       "      <th>0</th>\n",
       "      <td>bbq_ckn_s</td>\n",
       "      <td>bbq_ckn</td>\n",
       "      <td>S</td>\n",
       "      <td>12.750</td>\n",
       "    </tr>\n",
       "    <tr>\n",
       "      <th>1</th>\n",
       "      <td>bbq_ckn_m</td>\n",
       "      <td>bbq_ckn</td>\n",
       "      <td>M</td>\n",
       "      <td>16.750</td>\n",
       "    </tr>\n",
       "    <tr>\n",
       "      <th>2</th>\n",
       "      <td>bbq_ckn_l</td>\n",
       "      <td>bbq_ckn</td>\n",
       "      <td>L</td>\n",
       "      <td>20.750</td>\n",
       "    </tr>\n",
       "  </tbody>\n",
       "</table>\n",
       "</div>"
      ],
      "text/plain": [
       "    pizza_id pizza_type_id size  price\n",
       "0  bbq_ckn_s       bbq_ckn    S 12.750\n",
       "1  bbq_ckn_m       bbq_ckn    M 16.750\n",
       "2  bbq_ckn_l       bbq_ckn    L 20.750"
      ]
     },
     "metadata": {},
     "output_type": "display_data"
    }
   ],
   "source": [
    "# load data transaksi\n",
    "df_pizzas = pd.read_csv('pizzas.csv')\n",
    "inspect_data(df_pizzas, n_rows=3)"
   ]
  },
  {
   "cell_type": "markdown",
   "id": "9bf03ca4",
   "metadata": {},
   "source": [
    "# Inspeksi Data"
   ]
  },
  {
   "cell_type": "code",
   "execution_count": 8,
   "id": "0b88a318",
   "metadata": {},
   "outputs": [
    {
     "data": {
      "text/html": [
       "<div>\n",
       "<style scoped>\n",
       "    .dataframe tbody tr th:only-of-type {\n",
       "        vertical-align: middle;\n",
       "    }\n",
       "\n",
       "    .dataframe tbody tr th {\n",
       "        vertical-align: top;\n",
       "    }\n",
       "\n",
       "    .dataframe thead th {\n",
       "        text-align: right;\n",
       "    }\n",
       "</style>\n",
       "<table border=\"1\" class=\"dataframe\">\n",
       "  <thead>\n",
       "    <tr style=\"text-align: right;\">\n",
       "      <th></th>\n",
       "      <th>missing_percentage</th>\n",
       "      <th>missing_frequency</th>\n",
       "      <th>types</th>\n",
       "      <th>unique_values</th>\n",
       "    </tr>\n",
       "  </thead>\n",
       "  <tbody>\n",
       "    <tr>\n",
       "      <th>order_id</th>\n",
       "      <td>0.000</td>\n",
       "      <td>0</td>\n",
       "      <td>int64</td>\n",
       "      <td>[1, 2, 3, 4, 5, 6, 7, 8, 9, 10, 11, 12, 13, 14...</td>\n",
       "    </tr>\n",
       "    <tr>\n",
       "      <th>date</th>\n",
       "      <td>0.000</td>\n",
       "      <td>0</td>\n",
       "      <td>object</td>\n",
       "      <td>[2015-01-01, 2015-01-02, 2015-01-03, 2015-01-0...</td>\n",
       "    </tr>\n",
       "    <tr>\n",
       "      <th>time</th>\n",
       "      <td>0.000</td>\n",
       "      <td>0</td>\n",
       "      <td>object</td>\n",
       "      <td>[11:38:36, 11:57:40, 12:12:28, 12:16:31, 12:21...</td>\n",
       "    </tr>\n",
       "  </tbody>\n",
       "</table>\n",
       "</div>"
      ],
      "text/plain": [
       "          missing_percentage  missing_frequency   types  \\\n",
       "order_id               0.000                  0   int64   \n",
       "date                   0.000                  0  object   \n",
       "time                   0.000                  0  object   \n",
       "\n",
       "                                              unique_values  \n",
       "order_id  [1, 2, 3, 4, 5, 6, 7, 8, 9, 10, 11, 12, 13, 14...  \n",
       "date      [2015-01-01, 2015-01-02, 2015-01-03, 2015-01-0...  \n",
       "time      [11:38:36, 11:57:40, 12:12:28, 12:16:31, 12:21...  "
      ]
     },
     "execution_count": 8,
     "metadata": {},
     "output_type": "execute_result"
    }
   ],
   "source": [
    "# Check Missing Data\n",
    "check_missing(df_orders)"
   ]
  },
  {
   "cell_type": "code",
   "execution_count": 9,
   "id": "6a60e129",
   "metadata": {},
   "outputs": [
    {
     "data": {
      "text/html": [
       "<div>\n",
       "<style scoped>\n",
       "    .dataframe tbody tr th:only-of-type {\n",
       "        vertical-align: middle;\n",
       "    }\n",
       "\n",
       "    .dataframe tbody tr th {\n",
       "        vertical-align: top;\n",
       "    }\n",
       "\n",
       "    .dataframe thead th {\n",
       "        text-align: right;\n",
       "    }\n",
       "</style>\n",
       "<table border=\"1\" class=\"dataframe\">\n",
       "  <thead>\n",
       "    <tr style=\"text-align: right;\">\n",
       "      <th></th>\n",
       "      <th>missing_percentage</th>\n",
       "      <th>missing_frequency</th>\n",
       "      <th>types</th>\n",
       "      <th>unique_values</th>\n",
       "    </tr>\n",
       "  </thead>\n",
       "  <tbody>\n",
       "    <tr>\n",
       "      <th>order_details_id</th>\n",
       "      <td>0.000</td>\n",
       "      <td>0</td>\n",
       "      <td>int64</td>\n",
       "      <td>[1, 2, 3, 4, 5, 6, 7, 8, 9, 10, 11, 12, 13, 14...</td>\n",
       "    </tr>\n",
       "    <tr>\n",
       "      <th>order_id</th>\n",
       "      <td>0.000</td>\n",
       "      <td>0</td>\n",
       "      <td>int64</td>\n",
       "      <td>[1, 2, 3, 4, 5, 6, 7, 8, 9, 10, 11, 12, 13, 14...</td>\n",
       "    </tr>\n",
       "    <tr>\n",
       "      <th>pizza_id</th>\n",
       "      <td>0.000</td>\n",
       "      <td>0</td>\n",
       "      <td>object</td>\n",
       "      <td>[hawaiian_m, classic_dlx_m, five_cheese_l, ita...</td>\n",
       "    </tr>\n",
       "    <tr>\n",
       "      <th>quantity</th>\n",
       "      <td>0.000</td>\n",
       "      <td>0</td>\n",
       "      <td>int64</td>\n",
       "      <td>[1, 2, 3, 4]</td>\n",
       "    </tr>\n",
       "  </tbody>\n",
       "</table>\n",
       "</div>"
      ],
      "text/plain": [
       "                  missing_percentage  missing_frequency   types  \\\n",
       "order_details_id               0.000                  0   int64   \n",
       "order_id                       0.000                  0   int64   \n",
       "pizza_id                       0.000                  0  object   \n",
       "quantity                       0.000                  0   int64   \n",
       "\n",
       "                                                      unique_values  \n",
       "order_details_id  [1, 2, 3, 4, 5, 6, 7, 8, 9, 10, 11, 12, 13, 14...  \n",
       "order_id          [1, 2, 3, 4, 5, 6, 7, 8, 9, 10, 11, 12, 13, 14...  \n",
       "pizza_id          [hawaiian_m, classic_dlx_m, five_cheese_l, ita...  \n",
       "quantity                                               [1, 2, 3, 4]  "
      ]
     },
     "execution_count": 9,
     "metadata": {},
     "output_type": "execute_result"
    }
   ],
   "source": [
    "# Check Missing Data\n",
    "check_missing(df_order_details)"
   ]
  },
  {
   "cell_type": "code",
   "execution_count": 10,
   "id": "4583b049",
   "metadata": {},
   "outputs": [
    {
     "data": {
      "text/html": [
       "<div>\n",
       "<style scoped>\n",
       "    .dataframe tbody tr th:only-of-type {\n",
       "        vertical-align: middle;\n",
       "    }\n",
       "\n",
       "    .dataframe tbody tr th {\n",
       "        vertical-align: top;\n",
       "    }\n",
       "\n",
       "    .dataframe thead th {\n",
       "        text-align: right;\n",
       "    }\n",
       "</style>\n",
       "<table border=\"1\" class=\"dataframe\">\n",
       "  <thead>\n",
       "    <tr style=\"text-align: right;\">\n",
       "      <th></th>\n",
       "      <th>missing_percentage</th>\n",
       "      <th>missing_frequency</th>\n",
       "      <th>types</th>\n",
       "      <th>unique_values</th>\n",
       "    </tr>\n",
       "  </thead>\n",
       "  <tbody>\n",
       "    <tr>\n",
       "      <th>pizza_id</th>\n",
       "      <td>0.000</td>\n",
       "      <td>0</td>\n",
       "      <td>object</td>\n",
       "      <td>[bbq_ckn_s, bbq_ckn_m, bbq_ckn_l, cali_ckn_s, ...</td>\n",
       "    </tr>\n",
       "    <tr>\n",
       "      <th>pizza_type_id</th>\n",
       "      <td>0.000</td>\n",
       "      <td>0</td>\n",
       "      <td>object</td>\n",
       "      <td>[bbq_ckn, cali_ckn, ckn_alfredo, ckn_pesto, so...</td>\n",
       "    </tr>\n",
       "    <tr>\n",
       "      <th>size</th>\n",
       "      <td>0.000</td>\n",
       "      <td>0</td>\n",
       "      <td>object</td>\n",
       "      <td>[S, M, L, XL, XXL]</td>\n",
       "    </tr>\n",
       "    <tr>\n",
       "      <th>price</th>\n",
       "      <td>0.000</td>\n",
       "      <td>0</td>\n",
       "      <td>float64</td>\n",
       "      <td>[12.75, 16.75, 20.75, 12.0, 16.0, 20.5, 10.5, ...</td>\n",
       "    </tr>\n",
       "  </tbody>\n",
       "</table>\n",
       "</div>"
      ],
      "text/plain": [
       "               missing_percentage  missing_frequency    types  \\\n",
       "pizza_id                    0.000                  0   object   \n",
       "pizza_type_id               0.000                  0   object   \n",
       "size                        0.000                  0   object   \n",
       "price                       0.000                  0  float64   \n",
       "\n",
       "                                                   unique_values  \n",
       "pizza_id       [bbq_ckn_s, bbq_ckn_m, bbq_ckn_l, cali_ckn_s, ...  \n",
       "pizza_type_id  [bbq_ckn, cali_ckn, ckn_alfredo, ckn_pesto, so...  \n",
       "size                                          [S, M, L, XL, XXL]  \n",
       "price          [12.75, 16.75, 20.75, 12.0, 16.0, 20.5, 10.5, ...  "
      ]
     },
     "execution_count": 10,
     "metadata": {},
     "output_type": "execute_result"
    }
   ],
   "source": [
    "# Check Missing Data\n",
    "check_missing(df_pizzas)"
   ]
  },
  {
   "cell_type": "code",
   "execution_count": 11,
   "id": "70b63948",
   "metadata": {},
   "outputs": [
    {
     "name": "stdout",
     "output_type": "stream",
     "text": [
      "data shape: (21350, 3)\n"
     ]
    },
    {
     "data": {
      "text/html": [
       "<div>\n",
       "<style scoped>\n",
       "    .dataframe tbody tr th:only-of-type {\n",
       "        vertical-align: middle;\n",
       "    }\n",
       "\n",
       "    .dataframe tbody tr th {\n",
       "        vertical-align: top;\n",
       "    }\n",
       "\n",
       "    .dataframe thead th {\n",
       "        text-align: right;\n",
       "    }\n",
       "</style>\n",
       "<table border=\"1\" class=\"dataframe\">\n",
       "  <thead>\n",
       "    <tr style=\"text-align: right;\">\n",
       "      <th></th>\n",
       "      <th>order_id</th>\n",
       "      <th>date</th>\n",
       "      <th>time</th>\n",
       "    </tr>\n",
       "  </thead>\n",
       "  <tbody>\n",
       "    <tr>\n",
       "      <th>0</th>\n",
       "      <td>1</td>\n",
       "      <td>2015-01-01</td>\n",
       "      <td>11:38:36</td>\n",
       "    </tr>\n",
       "    <tr>\n",
       "      <th>1</th>\n",
       "      <td>2</td>\n",
       "      <td>2015-01-01</td>\n",
       "      <td>11:57:40</td>\n",
       "    </tr>\n",
       "    <tr>\n",
       "      <th>2</th>\n",
       "      <td>3</td>\n",
       "      <td>2015-01-01</td>\n",
       "      <td>12:12:28</td>\n",
       "    </tr>\n",
       "    <tr>\n",
       "      <th>3</th>\n",
       "      <td>4</td>\n",
       "      <td>2015-01-01</td>\n",
       "      <td>12:16:31</td>\n",
       "    </tr>\n",
       "    <tr>\n",
       "      <th>4</th>\n",
       "      <td>5</td>\n",
       "      <td>2015-01-01</td>\n",
       "      <td>12:21:30</td>\n",
       "    </tr>\n",
       "  </tbody>\n",
       "</table>\n",
       "</div>"
      ],
      "text/plain": [
       "   order_id        date      time\n",
       "0         1  2015-01-01  11:38:36\n",
       "1         2  2015-01-01  11:57:40\n",
       "2         3  2015-01-01  12:12:28\n",
       "3         4  2015-01-01  12:16:31\n",
       "4         5  2015-01-01  12:21:30"
      ]
     },
     "execution_count": 11,
     "metadata": {},
     "output_type": "execute_result"
    }
   ],
   "source": [
    "# cek shape dan head data\n",
    "print(f'data shape: {df_orders.shape}')\n",
    "df_orders.head()"
   ]
  },
  {
   "cell_type": "code",
   "execution_count": 12,
   "id": "9d7f3ae3",
   "metadata": {},
   "outputs": [
    {
     "name": "stdout",
     "output_type": "stream",
     "text": [
      "data shape: (48620, 4)\n"
     ]
    },
    {
     "data": {
      "text/html": [
       "<div>\n",
       "<style scoped>\n",
       "    .dataframe tbody tr th:only-of-type {\n",
       "        vertical-align: middle;\n",
       "    }\n",
       "\n",
       "    .dataframe tbody tr th {\n",
       "        vertical-align: top;\n",
       "    }\n",
       "\n",
       "    .dataframe thead th {\n",
       "        text-align: right;\n",
       "    }\n",
       "</style>\n",
       "<table border=\"1\" class=\"dataframe\">\n",
       "  <thead>\n",
       "    <tr style=\"text-align: right;\">\n",
       "      <th></th>\n",
       "      <th>order_details_id</th>\n",
       "      <th>order_id</th>\n",
       "      <th>pizza_id</th>\n",
       "      <th>quantity</th>\n",
       "    </tr>\n",
       "  </thead>\n",
       "  <tbody>\n",
       "    <tr>\n",
       "      <th>0</th>\n",
       "      <td>1</td>\n",
       "      <td>1</td>\n",
       "      <td>hawaiian_m</td>\n",
       "      <td>1</td>\n",
       "    </tr>\n",
       "    <tr>\n",
       "      <th>1</th>\n",
       "      <td>2</td>\n",
       "      <td>2</td>\n",
       "      <td>classic_dlx_m</td>\n",
       "      <td>1</td>\n",
       "    </tr>\n",
       "    <tr>\n",
       "      <th>2</th>\n",
       "      <td>3</td>\n",
       "      <td>2</td>\n",
       "      <td>five_cheese_l</td>\n",
       "      <td>1</td>\n",
       "    </tr>\n",
       "    <tr>\n",
       "      <th>3</th>\n",
       "      <td>4</td>\n",
       "      <td>2</td>\n",
       "      <td>ital_supr_l</td>\n",
       "      <td>1</td>\n",
       "    </tr>\n",
       "    <tr>\n",
       "      <th>4</th>\n",
       "      <td>5</td>\n",
       "      <td>2</td>\n",
       "      <td>mexicana_m</td>\n",
       "      <td>1</td>\n",
       "    </tr>\n",
       "  </tbody>\n",
       "</table>\n",
       "</div>"
      ],
      "text/plain": [
       "   order_details_id  order_id       pizza_id  quantity\n",
       "0                 1         1     hawaiian_m         1\n",
       "1                 2         2  classic_dlx_m         1\n",
       "2                 3         2  five_cheese_l         1\n",
       "3                 4         2    ital_supr_l         1\n",
       "4                 5         2     mexicana_m         1"
      ]
     },
     "execution_count": 12,
     "metadata": {},
     "output_type": "execute_result"
    }
   ],
   "source": [
    "# cek shape dan head data\n",
    "print(f'data shape: {df_order_details.shape}')\n",
    "df_order_details.head()"
   ]
  },
  {
   "cell_type": "code",
   "execution_count": 13,
   "id": "dbc26671",
   "metadata": {},
   "outputs": [
    {
     "name": "stdout",
     "output_type": "stream",
     "text": [
      "data shape: (96, 4)\n"
     ]
    },
    {
     "data": {
      "text/html": [
       "<div>\n",
       "<style scoped>\n",
       "    .dataframe tbody tr th:only-of-type {\n",
       "        vertical-align: middle;\n",
       "    }\n",
       "\n",
       "    .dataframe tbody tr th {\n",
       "        vertical-align: top;\n",
       "    }\n",
       "\n",
       "    .dataframe thead th {\n",
       "        text-align: right;\n",
       "    }\n",
       "</style>\n",
       "<table border=\"1\" class=\"dataframe\">\n",
       "  <thead>\n",
       "    <tr style=\"text-align: right;\">\n",
       "      <th></th>\n",
       "      <th>pizza_id</th>\n",
       "      <th>pizza_type_id</th>\n",
       "      <th>size</th>\n",
       "      <th>price</th>\n",
       "    </tr>\n",
       "  </thead>\n",
       "  <tbody>\n",
       "    <tr>\n",
       "      <th>0</th>\n",
       "      <td>bbq_ckn_s</td>\n",
       "      <td>bbq_ckn</td>\n",
       "      <td>S</td>\n",
       "      <td>12.750</td>\n",
       "    </tr>\n",
       "    <tr>\n",
       "      <th>1</th>\n",
       "      <td>bbq_ckn_m</td>\n",
       "      <td>bbq_ckn</td>\n",
       "      <td>M</td>\n",
       "      <td>16.750</td>\n",
       "    </tr>\n",
       "    <tr>\n",
       "      <th>2</th>\n",
       "      <td>bbq_ckn_l</td>\n",
       "      <td>bbq_ckn</td>\n",
       "      <td>L</td>\n",
       "      <td>20.750</td>\n",
       "    </tr>\n",
       "    <tr>\n",
       "      <th>3</th>\n",
       "      <td>cali_ckn_s</td>\n",
       "      <td>cali_ckn</td>\n",
       "      <td>S</td>\n",
       "      <td>12.750</td>\n",
       "    </tr>\n",
       "    <tr>\n",
       "      <th>4</th>\n",
       "      <td>cali_ckn_m</td>\n",
       "      <td>cali_ckn</td>\n",
       "      <td>M</td>\n",
       "      <td>16.750</td>\n",
       "    </tr>\n",
       "  </tbody>\n",
       "</table>\n",
       "</div>"
      ],
      "text/plain": [
       "     pizza_id pizza_type_id size  price\n",
       "0   bbq_ckn_s       bbq_ckn    S 12.750\n",
       "1   bbq_ckn_m       bbq_ckn    M 16.750\n",
       "2   bbq_ckn_l       bbq_ckn    L 20.750\n",
       "3  cali_ckn_s      cali_ckn    S 12.750\n",
       "4  cali_ckn_m      cali_ckn    M 16.750"
      ]
     },
     "execution_count": 13,
     "metadata": {},
     "output_type": "execute_result"
    }
   ],
   "source": [
    "# cek shape dan head data\n",
    "print(f'data shape: {df_pizzas.shape}')\n",
    "df_pizzas.head()"
   ]
  },
  {
   "cell_type": "code",
   "execution_count": 14,
   "id": "83136d22",
   "metadata": {},
   "outputs": [
    {
     "name": "stdout",
     "output_type": "stream",
     "text": [
      "<class 'pandas.core.frame.DataFrame'>\n",
      "RangeIndex: 21350 entries, 0 to 21349\n",
      "Data columns (total 3 columns):\n",
      " #   Column    Non-Null Count  Dtype \n",
      "---  ------    --------------  ----- \n",
      " 0   order_id  21350 non-null  int64 \n",
      " 1   date      21350 non-null  object\n",
      " 2   time      21350 non-null  object\n",
      "dtypes: int64(1), object(2)\n",
      "memory usage: 500.5+ KB\n"
     ]
    }
   ],
   "source": [
    "# Check Info Data\n",
    "df_orders.info()"
   ]
  },
  {
   "cell_type": "code",
   "execution_count": 15,
   "id": "2eb1df9f",
   "metadata": {},
   "outputs": [
    {
     "name": "stdout",
     "output_type": "stream",
     "text": [
      "<class 'pandas.core.frame.DataFrame'>\n",
      "RangeIndex: 48620 entries, 0 to 48619\n",
      "Data columns (total 4 columns):\n",
      " #   Column            Non-Null Count  Dtype \n",
      "---  ------            --------------  ----- \n",
      " 0   order_details_id  48620 non-null  int64 \n",
      " 1   order_id          48620 non-null  int64 \n",
      " 2   pizza_id          48620 non-null  object\n",
      " 3   quantity          48620 non-null  int64 \n",
      "dtypes: int64(3), object(1)\n",
      "memory usage: 1.5+ MB\n"
     ]
    }
   ],
   "source": [
    "# Check Info Data\n",
    "df_order_details.info()"
   ]
  },
  {
   "cell_type": "code",
   "execution_count": 16,
   "id": "a2695a70",
   "metadata": {},
   "outputs": [
    {
     "name": "stdout",
     "output_type": "stream",
     "text": [
      "<class 'pandas.core.frame.DataFrame'>\n",
      "RangeIndex: 96 entries, 0 to 95\n",
      "Data columns (total 4 columns):\n",
      " #   Column         Non-Null Count  Dtype  \n",
      "---  ------         --------------  -----  \n",
      " 0   pizza_id       96 non-null     object \n",
      " 1   pizza_type_id  96 non-null     object \n",
      " 2   size           96 non-null     object \n",
      " 3   price          96 non-null     float64\n",
      "dtypes: float64(1), object(3)\n",
      "memory usage: 3.1+ KB\n"
     ]
    }
   ],
   "source": [
    "# Check Info Data\n",
    "df_pizzas.info()"
   ]
  },
  {
   "cell_type": "code",
   "execution_count": 17,
   "id": "37f39b60",
   "metadata": {},
   "outputs": [
    {
     "data": {
      "text/plain": [
       "0        False\n",
       "1        False\n",
       "2        False\n",
       "3        False\n",
       "4        False\n",
       "         ...  \n",
       "21345    False\n",
       "21346    False\n",
       "21347    False\n",
       "21348    False\n",
       "21349    False\n",
       "Length: 21350, dtype: bool"
      ]
     },
     "execution_count": 17,
     "metadata": {},
     "output_type": "execute_result"
    }
   ],
   "source": [
    "# Cleansing Duplicated\n",
    "df_orders.duplicated()"
   ]
  },
  {
   "cell_type": "code",
   "execution_count": 18,
   "id": "8623be0e",
   "metadata": {},
   "outputs": [
    {
     "data": {
      "text/html": [
       "<div>\n",
       "<style scoped>\n",
       "    .dataframe tbody tr th:only-of-type {\n",
       "        vertical-align: middle;\n",
       "    }\n",
       "\n",
       "    .dataframe tbody tr th {\n",
       "        vertical-align: top;\n",
       "    }\n",
       "\n",
       "    .dataframe thead th {\n",
       "        text-align: right;\n",
       "    }\n",
       "</style>\n",
       "<table border=\"1\" class=\"dataframe\">\n",
       "  <thead>\n",
       "    <tr style=\"text-align: right;\">\n",
       "      <th></th>\n",
       "      <th>order_id</th>\n",
       "      <th>date</th>\n",
       "      <th>time</th>\n",
       "    </tr>\n",
       "  </thead>\n",
       "  <tbody>\n",
       "  </tbody>\n",
       "</table>\n",
       "</div>"
      ],
      "text/plain": [
       "Empty DataFrame\n",
       "Columns: [order_id, date, time]\n",
       "Index: []"
      ]
     },
     "execution_count": 18,
     "metadata": {},
     "output_type": "execute_result"
    }
   ],
   "source": [
    "df_orders[df_orders.duplicated()]"
   ]
  },
  {
   "cell_type": "code",
   "execution_count": 19,
   "id": "22a29c06",
   "metadata": {},
   "outputs": [
    {
     "data": {
      "text/plain": [
       "0        False\n",
       "1        False\n",
       "2        False\n",
       "3        False\n",
       "4        False\n",
       "         ...  \n",
       "48615    False\n",
       "48616    False\n",
       "48617    False\n",
       "48618    False\n",
       "48619    False\n",
       "Length: 48620, dtype: bool"
      ]
     },
     "execution_count": 19,
     "metadata": {},
     "output_type": "execute_result"
    }
   ],
   "source": [
    "df_order_details.duplicated()"
   ]
  },
  {
   "cell_type": "code",
   "execution_count": 20,
   "id": "939da4fa",
   "metadata": {},
   "outputs": [
    {
     "data": {
      "text/html": [
       "<div>\n",
       "<style scoped>\n",
       "    .dataframe tbody tr th:only-of-type {\n",
       "        vertical-align: middle;\n",
       "    }\n",
       "\n",
       "    .dataframe tbody tr th {\n",
       "        vertical-align: top;\n",
       "    }\n",
       "\n",
       "    .dataframe thead th {\n",
       "        text-align: right;\n",
       "    }\n",
       "</style>\n",
       "<table border=\"1\" class=\"dataframe\">\n",
       "  <thead>\n",
       "    <tr style=\"text-align: right;\">\n",
       "      <th></th>\n",
       "      <th>order_details_id</th>\n",
       "      <th>order_id</th>\n",
       "      <th>pizza_id</th>\n",
       "      <th>quantity</th>\n",
       "    </tr>\n",
       "  </thead>\n",
       "  <tbody>\n",
       "  </tbody>\n",
       "</table>\n",
       "</div>"
      ],
      "text/plain": [
       "Empty DataFrame\n",
       "Columns: [order_details_id, order_id, pizza_id, quantity]\n",
       "Index: []"
      ]
     },
     "execution_count": 20,
     "metadata": {},
     "output_type": "execute_result"
    }
   ],
   "source": [
    "df_order_details[df_order_details.duplicated()]"
   ]
  },
  {
   "cell_type": "code",
   "execution_count": 21,
   "id": "e973f5fe",
   "metadata": {},
   "outputs": [
    {
     "data": {
      "text/plain": [
       "0     False\n",
       "1     False\n",
       "2     False\n",
       "3     False\n",
       "4     False\n",
       "5     False\n",
       "6     False\n",
       "7     False\n",
       "8     False\n",
       "9     False\n",
       "10    False\n",
       "11    False\n",
       "12    False\n",
       "13    False\n",
       "14    False\n",
       "15    False\n",
       "16    False\n",
       "17    False\n",
       "18    False\n",
       "19    False\n",
       "20    False\n",
       "21    False\n",
       "22    False\n",
       "23    False\n",
       "24    False\n",
       "25    False\n",
       "26    False\n",
       "27    False\n",
       "28    False\n",
       "29    False\n",
       "30    False\n",
       "31    False\n",
       "32    False\n",
       "33    False\n",
       "34    False\n",
       "35    False\n",
       "36    False\n",
       "37    False\n",
       "38    False\n",
       "39    False\n",
       "40    False\n",
       "41    False\n",
       "42    False\n",
       "43    False\n",
       "44    False\n",
       "45    False\n",
       "46    False\n",
       "47    False\n",
       "48    False\n",
       "49    False\n",
       "50    False\n",
       "51    False\n",
       "52    False\n",
       "53    False\n",
       "54    False\n",
       "55    False\n",
       "56    False\n",
       "57    False\n",
       "58    False\n",
       "59    False\n",
       "60    False\n",
       "61    False\n",
       "62    False\n",
       "63    False\n",
       "64    False\n",
       "65    False\n",
       "66    False\n",
       "67    False\n",
       "68    False\n",
       "69    False\n",
       "70    False\n",
       "71    False\n",
       "72    False\n",
       "73    False\n",
       "74    False\n",
       "75    False\n",
       "76    False\n",
       "77    False\n",
       "78    False\n",
       "79    False\n",
       "80    False\n",
       "81    False\n",
       "82    False\n",
       "83    False\n",
       "84    False\n",
       "85    False\n",
       "86    False\n",
       "87    False\n",
       "88    False\n",
       "89    False\n",
       "90    False\n",
       "91    False\n",
       "92    False\n",
       "93    False\n",
       "94    False\n",
       "95    False\n",
       "dtype: bool"
      ]
     },
     "execution_count": 21,
     "metadata": {},
     "output_type": "execute_result"
    }
   ],
   "source": [
    "df_pizzas.duplicated()"
   ]
  },
  {
   "cell_type": "code",
   "execution_count": 22,
   "id": "f10471e9",
   "metadata": {},
   "outputs": [
    {
     "data": {
      "text/html": [
       "<div>\n",
       "<style scoped>\n",
       "    .dataframe tbody tr th:only-of-type {\n",
       "        vertical-align: middle;\n",
       "    }\n",
       "\n",
       "    .dataframe tbody tr th {\n",
       "        vertical-align: top;\n",
       "    }\n",
       "\n",
       "    .dataframe thead th {\n",
       "        text-align: right;\n",
       "    }\n",
       "</style>\n",
       "<table border=\"1\" class=\"dataframe\">\n",
       "  <thead>\n",
       "    <tr style=\"text-align: right;\">\n",
       "      <th></th>\n",
       "      <th>pizza_id</th>\n",
       "      <th>pizza_type_id</th>\n",
       "      <th>size</th>\n",
       "      <th>price</th>\n",
       "    </tr>\n",
       "  </thead>\n",
       "  <tbody>\n",
       "  </tbody>\n",
       "</table>\n",
       "</div>"
      ],
      "text/plain": [
       "Empty DataFrame\n",
       "Columns: [pizza_id, pizza_type_id, size, price]\n",
       "Index: []"
      ]
     },
     "execution_count": 22,
     "metadata": {},
     "output_type": "execute_result"
    }
   ],
   "source": [
    "df_pizzas[df_pizzas.duplicated()]"
   ]
  },
  {
   "cell_type": "markdown",
   "id": "c9432e62",
   "metadata": {},
   "source": [
    "# Data Analysis"
   ]
  },
  {
   "cell_type": "code",
   "execution_count": 23,
   "id": "c4253106",
   "metadata": {},
   "outputs": [],
   "source": [
    "# Baca data dari tabel 'orders'\n",
    "df_orders = pd.read_csv('orders.csv')\n",
    "\n",
    "# Konversi kolom 'date' menjadi tipe data datetime\n",
    "df_orders['date'] = pd.to_datetime(df_orders['date'])\n",
    "\n",
    "# Buat kolom baru 'YearMonth' dengan format YYYY-MM\n",
    "df_orders['YearMonth'] = df_orders['date'].dt.strftime('%Y-%m')"
   ]
  },
  {
   "cell_type": "code",
   "execution_count": 24,
   "id": "4ef42093",
   "metadata": {},
   "outputs": [
    {
     "name": "stdout",
     "output_type": "stream",
     "text": [
      "       order_id       date      time YearMonth\n",
      "0             1 2015-01-01  11:38:36   2015-01\n",
      "1             2 2015-01-01  11:57:40   2015-01\n",
      "2             3 2015-01-01  12:12:28   2015-01\n",
      "3             4 2015-01-01  12:16:31   2015-01\n",
      "4             5 2015-01-01  12:21:30   2015-01\n",
      "...         ...        ...       ...       ...\n",
      "21345     21346 2015-12-31  20:51:07   2015-12\n",
      "21346     21347 2015-12-31  21:14:37   2015-12\n",
      "21347     21348 2015-12-31  21:23:10   2015-12\n",
      "21348     21349 2015-12-31  22:09:54   2015-12\n",
      "21349     21350 2015-12-31  23:02:05   2015-12\n",
      "\n",
      "[21350 rows x 4 columns]\n"
     ]
    }
   ],
   "source": [
    "print(df_orders)"
   ]
  },
  {
   "cell_type": "code",
   "execution_count": 25,
   "id": "5898ccc1",
   "metadata": {},
   "outputs": [],
   "source": [
    "# Hitung jumlah 'order_id' di setiap tahun-bulan\n",
    "monthly_orders = df_orders.groupby('YearMonth')['order_id'].count().reset_index()"
   ]
  },
  {
   "cell_type": "code",
   "execution_count": 26,
   "id": "69f4de55",
   "metadata": {},
   "outputs": [
    {
     "name": "stdout",
     "output_type": "stream",
     "text": [
      "   YearMonth  order_id\n",
      "0    2015-01      1845\n",
      "1    2015-02      1685\n",
      "2    2015-03      1840\n",
      "3    2015-04      1799\n",
      "4    2015-05      1853\n",
      "5    2015-06      1773\n",
      "6    2015-07      1935\n",
      "7    2015-08      1841\n",
      "8    2015-09      1661\n",
      "9    2015-10      1646\n",
      "10   2015-11      1792\n",
      "11   2015-12      1680\n"
     ]
    }
   ],
   "source": [
    "print(monthly_orders)"
   ]
  },
  {
   "cell_type": "code",
   "execution_count": 27,
   "id": "35225951",
   "metadata": {},
   "outputs": [
    {
     "data": {
      "image/png": "[encoded data removed]",
      "text/plain": [
       "<Figure size 1200x600 with 1 Axes>"
      ]
     },
     "metadata": {},
     "output_type": "display_data"
    }
   ],
   "source": [
    "# Atur gaya default Seaborn\n",
    "sns.set()\n",
    "\n",
    "# Buat line chart\n",
    "plt.figure(figsize=(12, 6))\n",
    "sns.lineplot(data=monthly_orders, x='YearMonth', y='order_id')\n",
    "plt.title('Total Orders by Month')\n",
    "plt.xlabel('Month')\n",
    "plt.ylabel('Number of Orders')\n",
    "plt.xticks(rotation=45)\n",
    "plt.show()"
   ]
  },
  {
   "cell_type": "code",
   "execution_count": 28,
   "id": "aa6e6eb1",
   "metadata": {},
   "outputs": [
    {
     "name": "stdout",
     "output_type": "stream",
     "text": [
      "Ringkasan Bulan dengan Pesanan Tertinggi:\n",
      "Bulan: 2015-07\n",
      "Jumlah Pesanan: 1935\n"
     ]
    }
   ],
   "source": [
    "# Temukan bulan dengan jumlah pesanan tertinggi\n",
    "max_orders_month = monthly_orders.loc[monthly_orders['order_id'].idxmax()]\n",
    "\n",
    "print(\"Ringkasan Bulan dengan Pesanan Tertinggi:\")\n",
    "print(\"Bulan:\", max_orders_month['YearMonth'])\n",
    "print(\"Jumlah Pesanan:\", max_orders_month['order_id'])"
   ]
  },
  {
   "cell_type": "code",
   "execution_count": 29,
   "id": "1d4a6178",
   "metadata": {},
   "outputs": [],
   "source": [
    "# Baca data dari tabel 'orders'\n",
    "df_orders = pd.read_csv('orders.csv')\n",
    "\n",
    "# Konversi kolom 'time' menjadi tipe data datetime\n",
    "df_orders['time'] = pd.to_datetime(df_orders['time'])"
   ]
  },
  {
   "cell_type": "code",
   "execution_count": 30,
   "id": "f3033f3d",
   "metadata": {},
   "outputs": [
    {
     "name": "stdout",
     "output_type": "stream",
     "text": [
      "       order_id        date                time\n",
      "0             1  2015-01-01 2023-09-02 11:38:36\n",
      "1             2  2015-01-01 2023-09-02 11:57:40\n",
      "2             3  2015-01-01 2023-09-02 12:12:28\n",
      "3             4  2015-01-01 2023-09-02 12:16:31\n",
      "4             5  2015-01-01 2023-09-02 12:21:30\n",
      "...         ...         ...                 ...\n",
      "21345     21346  2015-12-31 2023-09-02 20:51:07\n",
      "21346     21347  2015-12-31 2023-09-02 21:14:37\n",
      "21347     21348  2015-12-31 2023-09-02 21:23:10\n",
      "21348     21349  2015-12-31 2023-09-02 22:09:54\n",
      "21349     21350  2015-12-31 2023-09-02 23:02:05\n",
      "\n",
      "[21350 rows x 3 columns]\n"
     ]
    }
   ],
   "source": [
    "print(df_orders)"
   ]
  },
  {
   "cell_type": "code",
   "execution_count": 31,
   "id": "36f68ccb",
   "metadata": {},
   "outputs": [],
   "source": [
    "# Ekstrak jam dari kolom 'time'\n",
    "df_orders['hour'] = df_orders['time'].dt.hour\n",
    "\n",
    "# Hitung jumlah pesanan dalam setiap jam\n",
    "hourly_orders = df_orders.groupby('hour')['order_id'].count().reset_index()"
   ]
  },
  {
   "cell_type": "code",
   "execution_count": 32,
   "id": "deed1e00",
   "metadata": {},
   "outputs": [
    {
     "name": "stdout",
     "output_type": "stream",
     "text": [
      "    hour  order_id\n",
      "0      9         1\n",
      "1     10         8\n",
      "2     11      1231\n",
      "3     12      2520\n",
      "4     13      2455\n",
      "5     14      1472\n",
      "6     15      1468\n",
      "7     16      1920\n",
      "8     17      2336\n",
      "9     18      2399\n",
      "10    19      2009\n",
      "11    20      1642\n",
      "12    21      1198\n",
      "13    22       663\n",
      "14    23        28\n"
     ]
    }
   ],
   "source": [
    "print(hourly_orders)"
   ]
  },
  {
   "cell_type": "code",
   "execution_count": 33,
   "id": "ba6bca35",
   "metadata": {},
   "outputs": [
    {
     "data": {
      "image/png": "[encoded data removed]",
      "text/plain": [
       "<Figure size 1200x600 with 1 Axes>"
      ]
     },
     "metadata": {},
     "output_type": "display_data"
    }
   ],
   "source": [
    "# Atur gaya default Seaborn\n",
    "sns.set()\n",
    "\n",
    "# Buat bar chart\n",
    "plt.figure(figsize=(12, 6))\n",
    "sns.barplot(data=hourly_orders, x='hour', y='order_id', palette='pastel')\n",
    "plt.title('Orders by Hour')\n",
    "plt.xlabel('Hour of Day')\n",
    "plt.ylabel('Number of Orders')\n",
    "plt.xticks(rotation=45)\n",
    "plt.show()"
   ]
  },
  {
   "cell_type": "markdown",
   "id": "91e44d04",
   "metadata": {},
   "source": [
    "## Ringkasan Jam Tersibuk\n",
    "\n",
    "Dalam analisis data kami, kami telah mengidentifikasi jam-jam tersibuk berdasarkan jumlah pesanan. Berikut adalah beberapa temuan kami:\n",
    "\n",
    "- **Jam Tersibuk Teratas:** Jam 12.00 siang\n",
    "\n",
    "- **Jam Paling Sepi:** Jam 22.00 malam\n",
    "\n",
    "- **Grafik Jam Tersibuk:** Di bawah ini adalah grafik yang menunjukkan jumlah pesanan per jam dalam sehari.\n",
    "\n",
    "![Grafik Jam Tersibuk](nama_file_gambar.png)\n",
    "\n",
    "Dengan mengetahui jam-jam tersibuk, Anda dapat merencanakan sumber daya dengan lebih baik untuk mengatasi lonjakan pesanan pada jam-jam tersebut."
   ]
  },
  {
   "cell_type": "code",
   "execution_count": 34,
   "id": "06cd47de",
   "metadata": {},
   "outputs": [],
   "source": [
    "# Gabungkan tabel 'order_details' dengan tabel 'pizzas'\n",
    "merged_data = pd.merge(df_order_details, df_pizzas, on='pizza_id')"
   ]
  },
  {
   "cell_type": "code",
   "execution_count": 35,
   "id": "69e19856",
   "metadata": {},
   "outputs": [
    {
     "name": "stdout",
     "output_type": "stream",
     "text": [
      "       order_details_id  order_id       pizza_id  quantity pizza_type_id size  \\\n",
      "0                     1         1     hawaiian_m         1      hawaiian    M   \n",
      "1                   179        77     hawaiian_m         1      hawaiian    M   \n",
      "2                   357       146     hawaiian_m         1      hawaiian    M   \n",
      "3                   389       163     hawaiian_m         1      hawaiian    M   \n",
      "4                   568       247     hawaiian_m         1      hawaiian    M   \n",
      "...                 ...       ...            ...       ...           ...  ...   \n",
      "48615             39733     17492  the_greek_xxl         1     the_greek  XXL   \n",
      "48616             41183     18139  the_greek_xxl         1     the_greek  XXL   \n",
      "48617             42718     18789  the_greek_xxl         1     the_greek  XXL   \n",
      "48618             43041     18919  the_greek_xxl         1     the_greek  XXL   \n",
      "48619             47490     20866  the_greek_xxl         1     the_greek  XXL   \n",
      "\n",
      "       price  \n",
      "0     13.250  \n",
      "1     13.250  \n",
      "2     13.250  \n",
      "3     13.250  \n",
      "4     13.250  \n",
      "...      ...  \n",
      "48615 35.950  \n",
      "48616 35.950  \n",
      "48617 35.950  \n",
      "48618 35.950  \n",
      "48619 35.950  \n",
      "\n",
      "[48620 rows x 7 columns]\n"
     ]
    }
   ],
   "source": [
    "print(merged_data)"
   ]
  },
  {
   "cell_type": "code",
   "execution_count": 36,
   "id": "ae8c5acf",
   "metadata": {},
   "outputs": [],
   "source": [
    "# Hitung total kuantitas setiap 'pizza_type_id' dan urutkan dalam urutan menurun\n",
    "pizza_quantity = merged_data.groupby('pizza_type_id')['quantity'].sum().reset_index()\n",
    "pizza_quantity = pizza_quantity.sort_values(by='quantity', ascending=False)"
   ]
  },
  {
   "cell_type": "code",
   "execution_count": 37,
   "id": "32096534",
   "metadata": {},
   "outputs": [
    {
     "name": "stdout",
     "output_type": "stream",
     "text": [
      "   pizza_type_id  quantity\n",
      "7    classic_dlx      2453\n",
      "0        bbq_ckn      2432\n",
      "11      hawaiian      2422\n",
      "19     pepperoni      2418\n",
      "29      thai_ckn      2371\n",
      "4       cali_ckn      2370\n",
      "22      sicilian      1938\n",
      "25    spicy_ital      1924\n",
      "24    southw_ckn      1917\n",
      "1       big_meat      1914\n",
      "9    four_cheese      1902\n",
      "13     ital_supr      1884\n",
      "31    veggie_veg      1526\n",
      "16      mexicana      1484\n",
      "17    napolitana      1464\n",
      "21    prsc_argla      1457\n",
      "20  peppr_salami      1446\n",
      "27   spinach_fet      1446\n",
      "12   ital_cpcllo      1438\n",
      "30     the_greek      1420\n",
      "8    five_cheese      1409\n",
      "18   pep_msh_pep      1359\n",
      "10  green_garden       997\n",
      "5    ckn_alfredo       987\n",
      "14   ital_veggie       981\n",
      "6      ckn_pesto       973\n",
      "26    spin_pesto       970\n",
      "23   soppressata       961\n",
      "28  spinach_supr       950\n",
      "3      calabrese       937\n",
      "15  mediterraneo       934\n",
      "2     brie_carre       490\n"
     ]
    }
   ],
   "source": [
    "print(pizza_quantity)"
   ]
  },
  {
   "cell_type": "code",
   "execution_count": 38,
   "id": "123f4c1e",
   "metadata": {},
   "outputs": [
    {
     "data": {
      "image/png": "[encoded data removed]",
      "text/plain": [
       "<Figure size 1200x600 with 1 Axes>"
      ]
     },
     "metadata": {},
     "output_type": "display_data"
    }
   ],
   "source": [
    "# Atur gaya default Seaborn\n",
    "sns.set()\n",
    "\n",
    "# Buat bar plot\n",
    "plt.figure(figsize=(12, 6))\n",
    "sns.barplot(data=pizza_quantity, x='pizza_type_id', y='quantity', palette='pastel')\n",
    "plt.title('Ranking of Most Popular Pizzas')\n",
    "plt.xlabel('Pizza Type')\n",
    "plt.ylabel('Number of Orders')\n",
    "plt.xticks(rotation=45)\n",
    "plt.show()"
   ]
  },
  {
   "cell_type": "raw",
   "id": "afbe4aba",
   "metadata": {},
   "source": []
  },
  {
   "cell_type": "markdown",
   "id": "8868dca8",
   "metadata": {},
   "source": [
    "## Ringkasan Total Kuantitas Setiap Pizza Type\n",
    "\n",
    "Dalam analisis data kami, kami telah menggabungkan tabel 'order_details' dengan tabel 'pizzas' berdasarkan kolom 'pizza_id'. Kemudian, kami menghitung total kuantitas setiap 'pizza_type_id' dan mengurutkannya dalam urutan menurun. Berikut adalah beberapa temuan kami:\n",
    "\n",
    "- **Pizza Type Terlaris:** Pizza Type dengan ID **classic_dlx** memiliki total kuantitas pemesanan tertinggi.\n",
    "\n",
    "- **Pizza Type Tidak Laku:** Pizza Type dengan ID **brie_carre** memiliki total kuantitas pemesanan terendah.\n",
    "\n",
    "- **Grafik Total Kuantitas Setiap Pizza Type:** Di bawah ini adalah grafik yang menunjukkan total kuantitas setiap Pizza Type.\n",
    "\n",
    "![Grafik Total Kuantitas Setiap Pizza Type](nama_file_gambar.png)\n",
    "\n",
    "Dengan mengetahui total kuantitas setiap Pizza Type, Anda dapat membuat keputusan yang lebih baik terkait persediaan dan permintaan produk."
   ]
  },
  {
   "cell_type": "code",
   "execution_count": 39,
   "id": "859b0292",
   "metadata": {},
   "outputs": [],
   "source": [
    "# Gabungkan tabel 'order_details' dengan tabel 'pizzas'\n",
    "merged_data = pd.merge(df_order_details, df_pizzas, on='pizza_id')"
   ]
  },
  {
   "cell_type": "code",
   "execution_count": 40,
   "id": "658732e6",
   "metadata": {},
   "outputs": [
    {
     "name": "stdout",
     "output_type": "stream",
     "text": [
      "       order_details_id  order_id       pizza_id  quantity pizza_type_id size  \\\n",
      "0                     1         1     hawaiian_m         1      hawaiian    M   \n",
      "1                   179        77     hawaiian_m         1      hawaiian    M   \n",
      "2                   357       146     hawaiian_m         1      hawaiian    M   \n",
      "3                   389       163     hawaiian_m         1      hawaiian    M   \n",
      "4                   568       247     hawaiian_m         1      hawaiian    M   \n",
      "...                 ...       ...            ...       ...           ...  ...   \n",
      "48615             39733     17492  the_greek_xxl         1     the_greek  XXL   \n",
      "48616             41183     18139  the_greek_xxl         1     the_greek  XXL   \n",
      "48617             42718     18789  the_greek_xxl         1     the_greek  XXL   \n",
      "48618             43041     18919  the_greek_xxl         1     the_greek  XXL   \n",
      "48619             47490     20866  the_greek_xxl         1     the_greek  XXL   \n",
      "\n",
      "       price  \n",
      "0     13.250  \n",
      "1     13.250  \n",
      "2     13.250  \n",
      "3     13.250  \n",
      "4     13.250  \n",
      "...      ...  \n",
      "48615 35.950  \n",
      "48616 35.950  \n",
      "48617 35.950  \n",
      "48618 35.950  \n",
      "48619 35.950  \n",
      "\n",
      "[48620 rows x 7 columns]\n"
     ]
    }
   ],
   "source": [
    "print(merged_data)"
   ]
  },
  {
   "cell_type": "code",
   "execution_count": 41,
   "id": "55fbb5ab",
   "metadata": {},
   "outputs": [],
   "source": [
    "# Hitung revenue untuk setiap pizza\n",
    "merged_data['revenue'] = merged_data['quantity'] * merged_data['price']"
   ]
  },
  {
   "cell_type": "code",
   "execution_count": 42,
   "id": "1fd497f9",
   "metadata": {},
   "outputs": [
    {
     "name": "stdout",
     "output_type": "stream",
     "text": [
      "0       13.250\n",
      "1       13.250\n",
      "2       13.250\n",
      "3       13.250\n",
      "4       13.250\n",
      "         ...  \n",
      "48615   35.950\n",
      "48616   35.950\n",
      "48617   35.950\n",
      "48618   35.950\n",
      "48619   35.950\n",
      "Name: revenue, Length: 48620, dtype: float64\n"
     ]
    }
   ],
   "source": [
    "print(merged_data['revenue'])"
   ]
  },
  {
   "cell_type": "code",
   "execution_count": 43,
   "id": "be6f4e64",
   "metadata": {},
   "outputs": [],
   "source": [
    "# Kelompokkan data berdasarkan 'size' dan hitung total revenue\n",
    "size_revenue = merged_data.groupby('size')['revenue'].sum().reset_index()"
   ]
  },
  {
   "cell_type": "code",
   "execution_count": 44,
   "id": "c70b8a69",
   "metadata": {},
   "outputs": [
    {
     "name": "stdout",
     "output_type": "stream",
     "text": [
      "  size    revenue\n",
      "0    L 375318.700\n",
      "1    M 249382.250\n",
      "2    S 178076.500\n",
      "3   XL  14076.000\n",
      "4  XXL   1006.600\n"
     ]
    }
   ],
   "source": [
    "print(size_revenue)"
   ]
  },
  {
   "cell_type": "code",
   "execution_count": 45,
   "id": "d70d1381",
   "metadata": {},
   "outputs": [
    {
     "data": {
      "image/png": "[encoded data removed]",
      "text/plain": [
       "<Figure size 800x800 with 1 Axes>"
      ]
     },
     "metadata": {},
     "output_type": "display_data"
    }
   ],
   "source": [
    "# Buat pie chart\n",
    "plt.figure(figsize=(8, 8))\n",
    "colors = sns.color_palette('pastel', len(size_revenue['size']))\n",
    "plt.pie(size_revenue['revenue'], labels=size_revenue['size'], autopct='%1.1f%%', startangle=140, colors=colors)\n",
    "plt.axis('equal')\n",
    "plt.title('Revenue Contribution by Pizza Size')\n",
    "plt.show()"
   ]
  },
  {
   "cell_type": "markdown",
   "id": "c1d841b8",
   "metadata": {},
   "source": [
    "## Ringkasan Persentase Kontribusi dari Setiap Pizza Size\n",
    "\n",
    "Dalam analisis data kami, kami telah menghitung revenue untuk masing-masing pizza size dengan menggunakan formula `revenue = quantity x price`. Berikut adalah beberapa temuan kami:\n",
    "\n",
    "- **Pizza Size Terbesar:** Pizza size dengan revenue terbesar adalah **Large dengan Revenue = 375,318.7 atau 45.19% dari Total Revenue** \n",
    "\n",
    "- **Pizza Size Terkecil:** Pizza size dengan revenue terkecil adalah **XXL dengan Revenue = 1,006.6 atau 0.1% dari Total Revenue**\n",
    "\n",
    "- **Grafik Persentase Kontribusi dari Setiap Pizza Size:** Di bawah ini adalah grafik pie chart yang menunjukkan persentase kontribusi dari setiap pizza size terhadap total revenue.\n",
    "\n",
    "![Grafik Persentase Kontribusi dari Setiap Pizza Size](nama_file_gambar.png)\n",
    "\n",
    "Dengan mengetahui persentase kontribusi dari setiap pizza size, Anda dapat fokus pada strategi penjualan yang paling menguntungkan."
   ]
  },
  {
   "cell_type": "code",
   "execution_count": 46,
   "id": "7bbf48ea",
   "metadata": {},
   "outputs": [],
   "source": [
    "# Gabungkan tabel 'order_details' dengan tabel 'pizzas'\n",
    "merged_data = pd.merge(df_order_details, df_pizzas, on='pizza_id')"
   ]
  },
  {
   "cell_type": "code",
   "execution_count": 47,
   "id": "462908c5",
   "metadata": {},
   "outputs": [
    {
     "name": "stdout",
     "output_type": "stream",
     "text": [
      "       order_details_id  order_id       pizza_id  quantity pizza_type_id size  \\\n",
      "0                     1         1     hawaiian_m         1      hawaiian    M   \n",
      "1                   179        77     hawaiian_m         1      hawaiian    M   \n",
      "2                   357       146     hawaiian_m         1      hawaiian    M   \n",
      "3                   389       163     hawaiian_m         1      hawaiian    M   \n",
      "4                   568       247     hawaiian_m         1      hawaiian    M   \n",
      "...                 ...       ...            ...       ...           ...  ...   \n",
      "48615             39733     17492  the_greek_xxl         1     the_greek  XXL   \n",
      "48616             41183     18139  the_greek_xxl         1     the_greek  XXL   \n",
      "48617             42718     18789  the_greek_xxl         1     the_greek  XXL   \n",
      "48618             43041     18919  the_greek_xxl         1     the_greek  XXL   \n",
      "48619             47490     20866  the_greek_xxl         1     the_greek  XXL   \n",
      "\n",
      "       price  \n",
      "0     13.250  \n",
      "1     13.250  \n",
      "2     13.250  \n",
      "3     13.250  \n",
      "4     13.250  \n",
      "...      ...  \n",
      "48615 35.950  \n",
      "48616 35.950  \n",
      "48617 35.950  \n",
      "48618 35.950  \n",
      "48619 35.950  \n",
      "\n",
      "[48620 rows x 7 columns]\n"
     ]
    }
   ],
   "source": [
    "print(merged_data)"
   ]
  },
  {
   "cell_type": "code",
   "execution_count": 48,
   "id": "0a0ca072",
   "metadata": {},
   "outputs": [],
   "source": [
    "# Hitung revenue untuk setiap pizza\n",
    "merged_data['revenue'] = merged_data['quantity'] * merged_data['price']"
   ]
  },
  {
   "cell_type": "code",
   "execution_count": 49,
   "id": "24b659c3",
   "metadata": {},
   "outputs": [
    {
     "name": "stdout",
     "output_type": "stream",
     "text": [
      "0       13.250\n",
      "1       13.250\n",
      "2       13.250\n",
      "3       13.250\n",
      "4       13.250\n",
      "         ...  \n",
      "48615   35.950\n",
      "48616   35.950\n",
      "48617   35.950\n",
      "48618   35.950\n",
      "48619   35.950\n",
      "Name: revenue, Length: 48620, dtype: float64\n"
     ]
    }
   ],
   "source": [
    "print(merged_data['revenue'])"
   ]
  },
  {
   "cell_type": "code",
   "execution_count": 50,
   "id": "06d9cfe6",
   "metadata": {},
   "outputs": [],
   "source": [
    "# Kelompokkan data berdasarkan 'pizza_type' dan hitung total revenue\n",
    "pizza_type_revenue = merged_data.groupby('pizza_type_id')['revenue'].sum().reset_index()"
   ]
  },
  {
   "cell_type": "code",
   "execution_count": 51,
   "id": "0105c4c0",
   "metadata": {},
   "outputs": [
    {
     "name": "stdout",
     "output_type": "stream",
     "text": [
      "   pizza_type_id   revenue\n",
      "0        bbq_ckn 42768.000\n",
      "1       big_meat 22968.000\n",
      "2     brie_carre 11588.500\n",
      "3      calabrese 15934.250\n",
      "4       cali_ckn 41409.500\n",
      "5    ckn_alfredo 16900.250\n",
      "6      ckn_pesto 16701.750\n",
      "7    classic_dlx 38180.500\n",
      "8    five_cheese 26066.500\n",
      "9    four_cheese 32265.700\n",
      "10  green_garden 13955.750\n",
      "11      hawaiian 32273.250\n",
      "12   ital_cpcllo 25094.000\n",
      "13     ital_supr 33476.750\n",
      "14   ital_veggie 16019.250\n",
      "15  mediterraneo 15360.500\n",
      "16      mexicana 26780.750\n",
      "17    napolitana 24087.000\n",
      "18   pep_msh_pep 18834.500\n",
      "19     pepperoni 30161.750\n",
      "20  peppr_salami 25529.000\n",
      "21    prsc_argla 24193.250\n",
      "22      sicilian 30940.500\n",
      "23   soppressata 16425.750\n",
      "24    southw_ckn 34705.750\n",
      "25    spicy_ital 34831.250\n",
      "26    spin_pesto 15596.000\n",
      "27   spinach_fet 23271.250\n",
      "28  spinach_supr 15277.750\n",
      "29      thai_ckn 43434.250\n",
      "30     the_greek 28454.100\n",
      "31    veggie_veg 24374.750\n"
     ]
    }
   ],
   "source": [
    "print(pizza_type_revenue)"
   ]
  },
  {
   "cell_type": "code",
   "execution_count": 52,
   "id": "685bb859",
   "metadata": {},
   "outputs": [],
   "source": [
    "# Urutkan data berdasarkan total revenue (descending)\n",
    "pizza_type_revenue = pizza_type_revenue.sort_values(by='revenue', ascending=False)"
   ]
  },
  {
   "cell_type": "code",
   "execution_count": 53,
   "id": "dd308814",
   "metadata": {},
   "outputs": [
    {
     "name": "stdout",
     "output_type": "stream",
     "text": [
      "   pizza_type_id   revenue\n",
      "29      thai_ckn 43434.250\n",
      "0        bbq_ckn 42768.000\n",
      "4       cali_ckn 41409.500\n",
      "7    classic_dlx 38180.500\n",
      "25    spicy_ital 34831.250\n",
      "24    southw_ckn 34705.750\n",
      "13     ital_supr 33476.750\n",
      "11      hawaiian 32273.250\n",
      "9    four_cheese 32265.700\n",
      "22      sicilian 30940.500\n",
      "19     pepperoni 30161.750\n",
      "30     the_greek 28454.100\n",
      "16      mexicana 26780.750\n",
      "8    five_cheese 26066.500\n",
      "20  peppr_salami 25529.000\n",
      "12   ital_cpcllo 25094.000\n",
      "31    veggie_veg 24374.750\n",
      "21    prsc_argla 24193.250\n",
      "17    napolitana 24087.000\n",
      "27   spinach_fet 23271.250\n",
      "1       big_meat 22968.000\n",
      "18   pep_msh_pep 18834.500\n",
      "5    ckn_alfredo 16900.250\n",
      "6      ckn_pesto 16701.750\n",
      "23   soppressata 16425.750\n",
      "14   ital_veggie 16019.250\n",
      "3      calabrese 15934.250\n",
      "26    spin_pesto 15596.000\n",
      "15  mediterraneo 15360.500\n",
      "28  spinach_supr 15277.750\n",
      "10  green_garden 13955.750\n",
      "2     brie_carre 11588.500\n"
     ]
    }
   ],
   "source": [
    "print(pizza_type_revenue)"
   ]
  },
  {
   "cell_type": "code",
   "execution_count": 54,
   "id": "6da9a2a0",
   "metadata": {},
   "outputs": [
    {
     "data": {
      "image/png": "[encoded data removed]",
      "text/plain": [
       "<Figure size 1200x600 with 1 Axes>"
      ]
     },
     "metadata": {},
     "output_type": "display_data"
    }
   ],
   "source": [
    "# Atur gaya default Seaborn\n",
    "sns.set()\n",
    "\n",
    "# Buat bar plot\n",
    "plt.figure(figsize=(12, 6))\n",
    "sns.barplot(data=pizza_type_revenue, y='revenue', x='pizza_type_id', palette='pastel')\n",
    "plt.xlabel('Pizza Type')\n",
    "plt.ylabel('Revenue Contribution')\n",
    "plt.title('Revenue Contribution by Pizza Type')\n",
    "\n",
    "# Putar keterangan sumbu X menjadi vertikal\n",
    "plt.xticks(rotation=90)\n",
    "\n",
    "plt.show()"
   ]
  },
  {
   "cell_type": "code",
   "execution_count": null,
   "id": "83bda6e1",
   "metadata": {},
   "outputs": [],
   "source": []
  }
 ],
 "metadata": {
  "kernelspec": {
   "display_name": "Python 3 (ipykernel)",
   "language": "python",
   "name": "python3"
  },
  "language_info": {
   "codemirror_mode": {
    "name": "ipython",
    "version": 3
   },
   "file_extension": ".py",
   "mimetype": "text/x-python",
   "name": "python",
   "nbconvert_exporter": "python",
   "pygments_lexer": "ipython3",
   "version": "3.11.3"
  }
 },
 "nbformat": 4,
 "nbformat_minor": 5
}
